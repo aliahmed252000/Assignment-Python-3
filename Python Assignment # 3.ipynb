{
 "cells": [
  {
   "cell_type": "code",
   "execution_count": 1,
   "id": "5ebef5f8",
   "metadata": {},
   "outputs": [
    {
     "name": "stdout",
     "output_type": "stream",
     "text": [
      "Twinkle,twinkle,little star,\n",
      "        How I wonder what you are!\n",
      "               Up above the world so high,\n",
      "               like a dimond in the sky.\n",
      "Twinkle,twinkle,little star,\n",
      "        How I wonder what you are\n"
     ]
    }
   ],
   "source": [
    "print(\"\"\"Twinkle,twinkle,little star,\n",
    "        How I wonder what you are!\n",
    "               Up above the world so high,\n",
    "               like a dimond in the sky.\n",
    "Twinkle,twinkle,little star,\n",
    "        How I wonder what you are\"\"\")"
   ]
  },
  {
   "cell_type": "code",
   "execution_count": 2,
   "id": "87025627",
   "metadata": {},
   "outputs": [
    {
     "name": "stdout",
     "output_type": "stream",
     "text": [
      "Current date and time :\n",
      "2021-10-27 15: 00: 08\n"
     ]
    }
   ],
   "source": [
    "import datetime\n",
    "now = datetime.datetime.now()\n",
    "print(\"Current date and time :\")\n",
    "print(now.strftime(\"%Y-%m-%d %H: %M: %S\"))"
   ]
  },
  {
   "cell_type": "code",
   "execution_count": 3,
   "id": "cb3d9a96",
   "metadata": {},
   "outputs": [
    {
     "name": "stdout",
     "output_type": "stream",
     "text": [
      "Input the radius of the circle :1.1\n",
      "The area of the of the circle with the radius1.1is:3.8013271108436504\n"
     ]
    }
   ],
   "source": [
    "from math import pi\n",
    "r = float(input (\"Input the radius of the circle :\"))\n",
    "print(\"The area of the of the circle with the radius\" + str(r) + \"is:\" + str(pi * r**2) )"
   ]
  },
  {
   "cell_type": "code",
   "execution_count": 4,
   "id": "0070c1d0",
   "metadata": {},
   "outputs": [
    {
     "name": "stdout",
     "output_type": "stream",
     "text": [
      "Input your first name : ali ahmed\n",
      "Input your last name : sheikh\n",
      "Assalamualikum sheikh ali ahmed\n"
     ]
    }
   ],
   "source": [
    "fname = input(\"Input your first name : \")\n",
    "lname = input(\"Input your last name : \")\n",
    "print (\"Assalamualikum \" + lname + \" \" + fname)"
   ]
  },
  {
   "cell_type": "code",
   "execution_count": 5,
   "id": "8da0007f",
   "metadata": {},
   "outputs": [
    {
     "name": "stdout",
     "output_type": "stream",
     "text": [
      "Type a number:4\n",
      "Type another number:6\n",
      "The sum is:  10\n"
     ]
    }
   ],
   "source": [
    "x = input(\"Type a number:\")\n",
    "y = input(\"Type another number:\")\n",
    "sum = int(x) + int(y)\n",
    "print(\"The sum is: \", sum)"
   ]
  },
  {
   "cell_type": "code",
   "execution_count": 6,
   "id": "9567b840",
   "metadata": {},
   "outputs": [
    {
     "name": "stdout",
     "output_type": "stream",
     "text": [
      "Enter marks of the Enhlish:85\n",
      "Enter marks of the Maths:95\n",
      "Enter marks of the Islamiat:99\n",
      "Enter marks of the Urdu:93\n",
      "Enter marks of the Computer:100\n",
      "Grade A+\n"
     ]
    }
   ],
   "source": [
    "English=int(input(\"Enter marks of the Enhlish:\"))\n",
    "Maths=int(input(\"Enter marks of the Maths:\"))\n",
    "Islamiat=int(input(\"Enter marks of the Islamiat:\"))\n",
    "Urdu=int(input(\"Enter marks of the Urdu:\"))\n",
    "Computer=int(input(\"Enter marks of the Computer:\"))\n",
    "avg=(English+Maths+Islamiat+Urdu+Computer)/5\n",
    "if(avg>=90):\n",
    "    print(\"Grade A+\");\n",
    "elif(avg>=80&avg<90):\n",
    "    print(\"Grade A\");\n",
    "elif(avg>=70&avg<80):\n",
    "    print(\"Grade A\");\n",
    "elif(avg>=60&avg<70):    \n",
    "    print(\"Grade B\");\n",
    "elif(avg>=50&avg<60):    \n",
    "    print(\"Grade C\");\n",
    "elif(avg>=40&avg<50):    \n",
    "    print(\"Grade D\");\n",
    "elif(avg>=30&avg<40):    \n",
    "    print(\"Grade E\");\n",
    "else:\n",
    "    print(\"Grade F\");"
   ]
  },
  {
   "cell_type": "code",
   "execution_count": 7,
   "id": "9e018edf",
   "metadata": {},
   "outputs": [
    {
     "name": "stdout",
     "output_type": "stream",
     "text": [
      "The length of the list [10, 20, 30, 40, 50, 60, 70] is : 7\n"
     ]
    }
   ],
   "source": [
    "#given list:\n",
    "list=[10,20,30,40,50,60,70]\n",
    "print(\"The length of the list\",list, \"is :\",len(list))"
   ]
  },
  {
   "cell_type": "code",
   "execution_count": 8,
   "id": "3e9994ee",
   "metadata": {},
   "outputs": [],
   "source": [
    "def max_num_in_list(list):\n",
    "    max= list[1]\n",
    "    for a in list:\n",
    "        if a >max:\n",
    "            max = a\n",
    "            return max\n",
    "    print(max_num_in_list([1,2,-8,0])) "
   ]
  },
  {
   "cell_type": "code",
   "execution_count": 9,
   "id": "a9db7ba9",
   "metadata": {},
   "outputs": [
    {
     "ename": "IndentationError",
     "evalue": "expected an indented block (<ipython-input-9-204255eb9ef8>, line 4)",
     "output_type": "error",
     "traceback": [
      "\u001b[1;36m  File \u001b[1;32m\"<ipython-input-9-204255eb9ef8>\"\u001b[1;36m, line \u001b[1;32m4\u001b[0m\n\u001b[1;33m    print(list)\u001b[0m\n\u001b[1;37m    ^\u001b[0m\n\u001b[1;31mIndentationError\u001b[0m\u001b[1;31m:\u001b[0m expected an indented block\n"
     ]
    }
   ],
   "source": [
    "a = [1,1,2,3,8,5,13,21,34,55,89]\n",
    "for list in a:\n",
    "    if list < 5:\n",
    "    print(list)"
   ]
  },
  {
   "cell_type": "code",
   "execution_count": null,
   "id": "90d6b826",
   "metadata": {},
   "outputs": [],
   "source": []
  }
 ],
 "metadata": {
  "kernelspec": {
   "display_name": "Python 3",
   "language": "python",
   "name": "python3"
  },
  "language_info": {
   "codemirror_mode": {
    "name": "ipython",
    "version": 3
   },
   "file_extension": ".py",
   "mimetype": "text/x-python",
   "name": "python",
   "nbconvert_exporter": "python",
   "pygments_lexer": "ipython3",
   "version": "3.8.8"
  }
 },
 "nbformat": 4,
 "nbformat_minor": 5
}
